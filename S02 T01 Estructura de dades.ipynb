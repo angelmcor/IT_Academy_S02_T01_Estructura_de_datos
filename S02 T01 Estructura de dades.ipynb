{
 "cells": [
  {
   "cell_type": "markdown",
   "id": "8761756a",
   "metadata": {},
   "source": [
    "#### Ángel Martínez\n",
    "\n",
    "# S02 T01: Estructura de dades\n",
    "\n",
    "## Nivel 1\n",
    "\n",
    "### Ejercicio 1\n",
    "\n",
    "##### Crea una llista que agrupi els mesos de l’any en trimestres (1T: Gener, Febrer i Març, 2T: Abril, Maig, Juny...), és a dir, una llista amb 4 llistes dins.\n",
    "\n"
   ]
  },
  {
   "cell_type": "code",
   "execution_count": 95,
   "id": "660e1754",
   "metadata": {},
   "outputs": [
    {
     "name": "stdout",
     "output_type": "stream",
     "text": [
      "[['Enero' 'Febrero' 'Marzo']\n",
      " ['Abril' 'Mayo' 'Junio']\n",
      " ['Julio' 'Agosto' 'Septiembre']\n",
      " ['Octubre' 'Noviembre' 'Diciembre']]\n"
     ]
    }
   ],
   "source": [
    "import numpy as np\n",
    "\n",
    "T1 = [\"Enero\", \"Febrero\", \"Marzo\"]\n",
    "T2 = [\"Abril\", \"Mayo\", \"Junio\"]\n",
    "T3 = [\"Julio\", \"Agosto\", \"Septiembre\"]\n",
    "T4 = [\"Octubre\", \"Noviembre\", \"Diciembre\"]\n",
    "\n",
    "Trimestres = np.array([T1, T2, T3, T4])\n",
    "print(Trimestres)"
   ]
  },
  {
   "cell_type": "markdown",
   "id": "1c958e77",
   "metadata": {},
   "source": [
    "### Ejercicio 2\n",
    "\n",
    "#### Crea un codi que et permeti accedir a:\n",
    "\n",
    "#### El segon mes del primer trimestre\n"
   ]
  },
  {
   "cell_type": "code",
   "execution_count": 96,
   "id": "d85114cf",
   "metadata": {},
   "outputs": [
    {
     "name": "stdout",
     "output_type": "stream",
     "text": [
      "El segundo mes del primer trimestre es Febrero\n"
     ]
    }
   ],
   "source": [
    "m2 = Trimestres[0, 1]\n",
    "print(\"El segundo mes del primer trimestre es\", m2)"
   ]
  },
  {
   "cell_type": "markdown",
   "id": "c3758eba",
   "metadata": {},
   "source": [
    "#### Els mesos del primer trimestre"
   ]
  },
  {
   "cell_type": "code",
   "execution_count": 97,
   "id": "bfe34c4d",
   "metadata": {},
   "outputs": [
    {
     "name": "stdout",
     "output_type": "stream",
     "text": [
      "Los meses del primer trimestre son:\n",
      "Enero\n",
      "Febrero\n",
      "Marzo\n"
     ]
    }
   ],
   "source": [
    "print(\"Los meses del primer trimestre son:\")\n",
    "for i in Trimestres[0]:\n",
    "    print(i)"
   ]
  },
  {
   "cell_type": "markdown",
   "id": "8d6fce00",
   "metadata": {},
   "source": [
    "#### Setembre i octubre"
   ]
  },
  {
   "cell_type": "code",
   "execution_count": 98,
   "id": "9b2d2393",
   "metadata": {},
   "outputs": [
    {
     "name": "stdout",
     "output_type": "stream",
     "text": [
      "Septiembre\n",
      "Octubre\n"
     ]
    }
   ],
   "source": [
    "for x in T3:\n",
    "    if x == \"Septiembre\":\n",
    "        print(x)\n",
    "        \n",
    "for j in T4:\n",
    "    if j == \"Octubre\":\n",
    "        print(j)"
   ]
  },
  {
   "cell_type": "markdown",
   "id": "737c3fa4",
   "metadata": {},
   "source": [
    "### Ejercicio 3\n",
    "\n",
    "#### Crea una llista amb nombres desordenats i respon a les següents preguntes:\n",
    "\n",
    "#### Quants números hi ha?\n",
    "#### Quantes vegades apareix el número 3\n",
    "#### Quantes vegades apareixen els nombres 3 i 4?\n",
    "#### Quin és el número més gran?\n",
    "#### Quins són els 3 números més petits?\n",
    "#### Quin és el rang d’aquesta llista?\n"
   ]
  },
  {
   "cell_type": "code",
   "execution_count": 99,
   "id": "0a2e6e46",
   "metadata": {},
   "outputs": [
    {
     "name": "stdout",
     "output_type": "stream",
     "text": [
      "[6, 18, 9, 3, 7, 14, 2, 1, 13, 12]\n"
     ]
    }
   ],
   "source": [
    "# Crea una llista amb nombres desordenats i respon a les següents preguntes:\n",
    "\n",
    "import random\n",
    "\n",
    "ListaEx3 = random.sample(range(0, 20), 10)\n",
    "print(ListaEx3)"
   ]
  },
  {
   "cell_type": "code",
   "execution_count": 100,
   "id": "93c3392c",
   "metadata": {},
   "outputs": [
    {
     "name": "stdout",
     "output_type": "stream",
     "text": [
      "La lista tiene 10 números\n"
     ]
    }
   ],
   "source": [
    "# Quants números hi ha?\n",
    "\n",
    "nums = len(ListaEx3)\n",
    "print(\"La lista tiene\", nums, \"números\")\n"
   ]
  },
  {
   "cell_type": "code",
   "execution_count": 101,
   "id": "564c2151",
   "metadata": {},
   "outputs": [
    {
     "name": "stdout",
     "output_type": "stream",
     "text": [
      "El número '3' aparece 1 veces en la lista\n"
     ]
    }
   ],
   "source": [
    "# Quantes vegades apareix el número 3\n",
    "\n",
    "counter = 0\n",
    "for x in ListaEx3:\n",
    "    if x == 3:\n",
    "        counter += 1\n",
    "\n",
    "print(\"El número '3' aparece\", counter, \"veces en la lista\")\n",
    "\n"
   ]
  },
  {
   "cell_type": "code",
   "execution_count": 102,
   "id": "0da17c71",
   "metadata": {},
   "outputs": [
    {
     "name": "stdout",
     "output_type": "stream",
     "text": [
      "El número '3' aparece 1 veces, y el número '4' aparece 0 veces\n"
     ]
    }
   ],
   "source": [
    "# Quantes vegades apareixen els nombres 3 i 4?\n",
    "\n",
    "counter3 = 0\n",
    "for x in ListaEx3:\n",
    "    if x == 3:\n",
    "        counter3 += 1\n",
    "        \n",
    "        \n",
    "counter4 = 0\n",
    "for j in ListaEx3:\n",
    "    if j == 4:\n",
    "        counter4 += 1        \n",
    "        \n",
    "print(\"El número '3' aparece\", counter3, \"veces, y el número '4' aparece\", counter4, \"veces\")\n"
   ]
  },
  {
   "cell_type": "code",
   "execution_count": 103,
   "id": "2b56e19d",
   "metadata": {},
   "outputs": [
    {
     "name": "stdout",
     "output_type": "stream",
     "text": [
      "[1, 2, 3, 6, 7, 9, 12, 13, 14, 18]\n",
      "Los '3' números más pequeños son:\n",
      "1\n",
      "2\n",
      "3\n"
     ]
    }
   ],
   "source": [
    "# Quins són els 3 números més petits?\n",
    "\n",
    "ListaOrdenada = sorted(ListaEx3)\n",
    "print(ListaOrdenada)\n",
    "\n",
    "print(\"Los '3' números más pequeños son:\")\n",
    "i = 0\n",
    "for x in ListaOrdenada:\n",
    "    print(x)\n",
    "    i += 1\n",
    "    if i == 3:\n",
    "        break\n"
   ]
  },
  {
   "cell_type": "code",
   "execution_count": 104,
   "id": "3eb090e4",
   "metadata": {},
   "outputs": [
    {
     "name": "stdout",
     "output_type": "stream",
     "text": [
      "El rango de la lista es: range(0, 10)\n"
     ]
    }
   ],
   "source": [
    "# Quin és el rang d’aquesta llista?\n",
    "\n",
    "print(\"El rango de la lista es:\", range(len(ListaEx3)))"
   ]
  },
  {
   "cell_type": "markdown",
   "id": "683de765",
   "metadata": {},
   "source": [
    "### Ejercicio 4\n",
    "\n",
    "#### Crea un diccionari de la següent forma i respon a les preguntes:\n",
    "\n",
    "#### compra = { \"Pomes\" : {\"Qty\": 5, \"€\": 0.42}, \"Peres\" : {\"Qty\": 3, \"€\": 0.66} }\n",
    "\n",
    "#### Afegeix alguna fruita més\n",
    "#### Quant han costat les peres en total?\n",
    "#### Quantes fruites hem comprat en total?\n",
    "#### Quina és la fruita més cara?"
   ]
  },
  {
   "cell_type": "code",
   "execution_count": 105,
   "id": "930162eb",
   "metadata": {},
   "outputs": [],
   "source": [
    "# Crea un diccionari de la següent forma i respon a les preguntes:\n",
    "\n",
    "# compra = { \"Pomes\" : {\"Qty\": 5, \"€\": 0.42}, \"Peres\" : {\"Qty\": 3, \"€\": 0.66} }\n",
    "\n",
    "compra = { \n",
    "    \"Pomes\" : {\n",
    "    \"Qty\"   : 5, \n",
    "    \"€\"     : 0.42\n",
    "    }, \n",
    "    \"Peres\" : {\n",
    "    \"Qty\"   : 3,\n",
    "    \"€\"     : 0.66\n",
    "    } \n",
    "}\n"
   ]
  },
  {
   "cell_type": "code",
   "execution_count": 106,
   "id": "ebcb765c",
   "metadata": {},
   "outputs": [
    {
     "name": "stdout",
     "output_type": "stream",
     "text": [
      "{'Pomes': {'Qty': 5, '€': 0.42}, 'Peres': {'Qty': 3, '€': 0.66}, 'cerezas': {'Qty': 4, '€': 3.89}, 'naranjas': {'Qty': 7, '€': 1.4}}\n"
     ]
    }
   ],
   "source": [
    "# Afegeix alguna fruita més\n",
    "\n",
    "compra.update({\"cerezas\" : {\"Qty\": 4, \"€\": 3.89}, \"naranjas\" : {\"Qty\": 7, \"€\": 1.4}})\n",
    "\n",
    "print(compra)\n",
    "\n"
   ]
  },
  {
   "cell_type": "code",
   "execution_count": 112,
   "id": "e91e4671",
   "metadata": {},
   "outputs": [
    {
     "name": "stdout",
     "output_type": "stream",
     "text": [
      "Las peras han costado: 1.98 € en total\n"
     ]
    }
   ],
   "source": [
    "# Quant han costat les peres en total\n",
    "\n",
    "KgPeras = compra[\"Peres\"].get(\"Qty\")\n",
    "precioKgPeras = compra[\"Peres\"].get(\"€\")\n",
    "perasTotal = KgPeras * precioKgPeras\n",
    "print(\"Las peras han costado:\", perasTotal, \"€ en total\")\n",
    "\n"
   ]
  },
  {
   "cell_type": "code",
   "execution_count": 108,
   "id": "3c7bfd30",
   "metadata": {},
   "outputs": [
    {
     "name": "stdout",
     "output_type": "stream",
     "text": [
      "En total hemos comprado 4 frutas diferentes\n"
     ]
    }
   ],
   "source": [
    "# Quantes fruites hem comprat en total?\n",
    "\n",
    "counter = 0\n",
    "for x in compra.keys():\n",
    "    counter += 1\n",
    "    \n",
    "print(\"En total hemos comprado\", counter, \"frutas diferentes\")\n",
    "\n"
   ]
  },
  {
   "cell_type": "code",
   "execution_count": 109,
   "id": "64e946d9",
   "metadata": {},
   "outputs": [
    {
     "name": "stdout",
     "output_type": "stream",
     "text": [
      "En esta cesta lo más caro son las cerezas con un precio de 3.89 €/Kg\n"
     ]
    }
   ],
   "source": [
    "# Quina és la fruita més cara?\n",
    "\n",
    "frutas = []\n",
    "preciosFrutas = []    \n",
    "\n",
    "for fruta in compra:\n",
    "    precioKg = compra[fruta].get(\"€\")\n",
    "    frutas.append(fruta)\n",
    "    preciosFrutas.append(precioKg)\n",
    "    \n",
    "\n",
    "i = 0\n",
    "for precioKg in preciosFrutas:\n",
    "    if precioKg == max(preciosFrutas):\n",
    "        index = i\n",
    "        break\n",
    "    i += 1\n",
    "\n",
    "print(\"En esta cesta lo más caro son las\", frutas[index], \"con un precio de\", max(preciosFrutas), \"€/Kg\")\n"
   ]
  }
 ],
 "metadata": {
  "kernelspec": {
   "display_name": "Python 3 (ipykernel)",
   "language": "python",
   "name": "python3"
  },
  "language_info": {
   "codemirror_mode": {
    "name": "ipython",
    "version": 3
   },
   "file_extension": ".py",
   "mimetype": "text/x-python",
   "name": "python",
   "nbconvert_exporter": "python",
   "pygments_lexer": "ipython3",
   "version": "3.9.7"
  }
 },
 "nbformat": 4,
 "nbformat_minor": 5
}
